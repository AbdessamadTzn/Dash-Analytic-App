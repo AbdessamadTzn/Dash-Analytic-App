{
 "cells": [
  {
   "cell_type": "markdown",
   "id": "cbaaef04-4732-4e32-a804-fedeefe2fa81",
   "metadata": {},
   "source": [
    "![Abdessamd Touzani](banner.png)"
   ]
  },
  {
   "cell_type": "code",
   "execution_count": 1,
   "id": "5c6e7707-9e41-4db8-884a-fde932b7e36f",
   "metadata": {},
   "outputs": [
    {
     "name": "stdout",
     "output_type": "stream",
     "text": [
      "Checked\n"
     ]
    }
   ],
   "source": [
    "import pandas as pd\n",
    "import numpy as np\n",
    "\n",
    "\n",
    "# set seed for reproducibility\n",
    "np.random.seed(0)\n",
    "\n",
    "print(\"Checked\")"
   ]
  },
  {
   "cell_type": "raw",
   "id": "810ece92-a668-417f-82b8-8dceed18c90f",
   "metadata": {},
   "source": [
    "pip install -U matplotlib --user"
   ]
  },
  {
   "cell_type": "raw",
   "id": "6ba85993-9e3a-47de-94c5-142a0307bb82",
   "metadata": {},
   "source": [
    "!pip show matplotlib"
   ]
  },
  {
   "cell_type": "code",
   "execution_count": 2,
   "id": "7b94f329-41e3-4f22-9bb3-51e51ab44547",
   "metadata": {},
   "outputs": [
    {
     "name": "stdout",
     "output_type": "stream",
     "text": [
      "Checked...\n"
     ]
    }
   ],
   "source": [
    "import matplotlib.pyplot as plt\n",
    "import seaborn as sns\n",
    "print('Checked...')"
   ]
  },
  {
   "cell_type": "raw",
   "id": "b89743f1-d258-43ad-a874-54618b707467",
   "metadata": {},
   "source": [
    "TODO: intorduction... || Add summary for easy access"
   ]
  },
  {
   "cell_type": "markdown",
   "id": "fe118d73-612e-453f-acb5-3db0dea16fc8",
   "metadata": {},
   "source": [
    "**[Documentation for used Data](https://www.kaggle.com/datasets/saurograndi/airplane-crashes-since-1908)**"
   ]
  },
  {
   "cell_type": "markdown",
   "id": "0653794a-413d-4854-8659-24dd61c885cb",
   "metadata": {},
   "source": [
    "## **Import Data**"
   ]
  },
  {
   "cell_type": "code",
   "execution_count": 3,
   "id": "d82a7f04-fd5f-4963-940a-dfa8f677bd23",
   "metadata": {},
   "outputs": [
    {
     "name": "stdout",
     "output_type": "stream",
     "text": [
      "Data read successfully\n"
     ]
    }
   ],
   "source": [
    "df = pd.read_csv('Airplane_Crashes_and_Fatalities_Since_1908.csv', encoding='ISO-8859-1')\n",
    "print('Data read successfully')"
   ]
  },
  {
   "cell_type": "code",
   "execution_count": 4,
   "id": "a0f29521-b823-4575-bcf1-d0694347336f",
   "metadata": {},
   "outputs": [
    {
     "data": {
      "text/html": [
       "<div>\n",
       "<style scoped>\n",
       "    .dataframe tbody tr th:only-of-type {\n",
       "        vertical-align: middle;\n",
       "    }\n",
       "\n",
       "    .dataframe tbody tr th {\n",
       "        vertical-align: top;\n",
       "    }\n",
       "\n",
       "    .dataframe thead th {\n",
       "        text-align: right;\n",
       "    }\n",
       "</style>\n",
       "<table border=\"1\" class=\"dataframe\">\n",
       "  <thead>\n",
       "    <tr style=\"text-align: right;\">\n",
       "      <th></th>\n",
       "      <th>Date</th>\n",
       "      <th>Time</th>\n",
       "      <th>Location</th>\n",
       "      <th>Operator</th>\n",
       "      <th>Flight #</th>\n",
       "      <th>Route</th>\n",
       "      <th>Type</th>\n",
       "      <th>Registration</th>\n",
       "      <th>cn/In</th>\n",
       "      <th>Aboard</th>\n",
       "      <th>Fatalities</th>\n",
       "      <th>Ground</th>\n",
       "      <th>Summary</th>\n",
       "    </tr>\n",
       "  </thead>\n",
       "  <tbody>\n",
       "    <tr>\n",
       "      <th>0</th>\n",
       "      <td>09/17/1908</td>\n",
       "      <td>17:18</td>\n",
       "      <td>Fort Myer, Virginia</td>\n",
       "      <td>Military - U.S. Army</td>\n",
       "      <td>NaN</td>\n",
       "      <td>Demonstration</td>\n",
       "      <td>Wright Flyer III</td>\n",
       "      <td>NaN</td>\n",
       "      <td>1</td>\n",
       "      <td>2.0</td>\n",
       "      <td>1.0</td>\n",
       "      <td>0.0</td>\n",
       "      <td>During a demonstration flight, a U.S. Army fly...</td>\n",
       "    </tr>\n",
       "    <tr>\n",
       "      <th>1</th>\n",
       "      <td>07/12/1912</td>\n",
       "      <td>06:30</td>\n",
       "      <td>AtlantiCity, New Jersey</td>\n",
       "      <td>Military - U.S. Navy</td>\n",
       "      <td>NaN</td>\n",
       "      <td>Test flight</td>\n",
       "      <td>Dirigible</td>\n",
       "      <td>NaN</td>\n",
       "      <td>NaN</td>\n",
       "      <td>5.0</td>\n",
       "      <td>5.0</td>\n",
       "      <td>0.0</td>\n",
       "      <td>First U.S. dirigible Akron exploded just offsh...</td>\n",
       "    </tr>\n",
       "    <tr>\n",
       "      <th>2</th>\n",
       "      <td>08/06/1913</td>\n",
       "      <td>NaN</td>\n",
       "      <td>Victoria, British Columbia, Canada</td>\n",
       "      <td>Private</td>\n",
       "      <td>-</td>\n",
       "      <td>NaN</td>\n",
       "      <td>Curtiss seaplane</td>\n",
       "      <td>NaN</td>\n",
       "      <td>NaN</td>\n",
       "      <td>1.0</td>\n",
       "      <td>1.0</td>\n",
       "      <td>0.0</td>\n",
       "      <td>The first fatal airplane accident in Canada oc...</td>\n",
       "    </tr>\n",
       "    <tr>\n",
       "      <th>3</th>\n",
       "      <td>09/09/1913</td>\n",
       "      <td>18:30</td>\n",
       "      <td>Over the North Sea</td>\n",
       "      <td>Military - German Navy</td>\n",
       "      <td>NaN</td>\n",
       "      <td>NaN</td>\n",
       "      <td>Zeppelin L-1 (airship)</td>\n",
       "      <td>NaN</td>\n",
       "      <td>NaN</td>\n",
       "      <td>20.0</td>\n",
       "      <td>14.0</td>\n",
       "      <td>0.0</td>\n",
       "      <td>The airship flew into a thunderstorm and encou...</td>\n",
       "    </tr>\n",
       "    <tr>\n",
       "      <th>4</th>\n",
       "      <td>10/17/1913</td>\n",
       "      <td>10:30</td>\n",
       "      <td>Near Johannisthal, Germany</td>\n",
       "      <td>Military - German Navy</td>\n",
       "      <td>NaN</td>\n",
       "      <td>NaN</td>\n",
       "      <td>Zeppelin L-2 (airship)</td>\n",
       "      <td>NaN</td>\n",
       "      <td>NaN</td>\n",
       "      <td>30.0</td>\n",
       "      <td>30.0</td>\n",
       "      <td>0.0</td>\n",
       "      <td>Hydrogen gas which was being vented was sucked...</td>\n",
       "    </tr>\n",
       "  </tbody>\n",
       "</table>\n",
       "</div>"
      ],
      "text/plain": [
       "         Date   Time                            Location  \\\n",
       "0  09/17/1908  17:18                 Fort Myer, Virginia   \n",
       "1  07/12/1912  06:30             AtlantiCity, New Jersey   \n",
       "2  08/06/1913    NaN  Victoria, British Columbia, Canada   \n",
       "3  09/09/1913  18:30                  Over the North Sea   \n",
       "4  10/17/1913  10:30          Near Johannisthal, Germany   \n",
       "\n",
       "                 Operator Flight #          Route                    Type  \\\n",
       "0    Military - U.S. Army      NaN  Demonstration        Wright Flyer III   \n",
       "1    Military - U.S. Navy      NaN    Test flight               Dirigible   \n",
       "2                 Private        -            NaN        Curtiss seaplane   \n",
       "3  Military - German Navy      NaN            NaN  Zeppelin L-1 (airship)   \n",
       "4  Military - German Navy      NaN            NaN  Zeppelin L-2 (airship)   \n",
       "\n",
       "  Registration cn/In  Aboard  Fatalities  Ground  \\\n",
       "0          NaN     1     2.0         1.0     0.0   \n",
       "1          NaN   NaN     5.0         5.0     0.0   \n",
       "2          NaN   NaN     1.0         1.0     0.0   \n",
       "3          NaN   NaN    20.0        14.0     0.0   \n",
       "4          NaN   NaN    30.0        30.0     0.0   \n",
       "\n",
       "                                             Summary  \n",
       "0  During a demonstration flight, a U.S. Army fly...  \n",
       "1  First U.S. dirigible Akron exploded just offsh...  \n",
       "2  The first fatal airplane accident in Canada oc...  \n",
       "3  The airship flew into a thunderstorm and encou...  \n",
       "4  Hydrogen gas which was being vented was sucked...  "
      ]
     },
     "execution_count": 4,
     "metadata": {},
     "output_type": "execute_result"
    }
   ],
   "source": [
    "df.head()"
   ]
  },
  {
   "cell_type": "markdown",
   "id": "fa4b91fb-49bf-4c65-8809-c48b82406494",
   "metadata": {},
   "source": [
    "## **I) Data Cleaning && EDA:**"
   ]
  },
  {
   "cell_type": "markdown",
   "id": "ed55bf89-d9f6-4629-b8f0-aa35ce47c92e",
   "metadata": {},
   "source": [
    "### 1) **Handle duplicates:**"
   ]
  },
  {
   "cell_type": "code",
   "execution_count": 5,
   "id": "b397a0ce-b263-4f9c-938b-1693239a0eb4",
   "metadata": {},
   "outputs": [
    {
     "data": {
      "text/plain": [
       "0"
      ]
     },
     "execution_count": 5,
     "metadata": {},
     "output_type": "execute_result"
    }
   ],
   "source": [
    "df.duplicated().sum()"
   ]
  },
  {
   "cell_type": "markdown",
   "id": "57973ca9-8ac3-457a-aed2-37f3e3764c58",
   "metadata": {},
   "source": [
    "### 2) **Remove unnecessary columns:**"
   ]
  },
  {
   "cell_type": "code",
   "execution_count": 6,
   "id": "4d81c653-3bd0-48b1-97a3-d80e9533d1aa",
   "metadata": {},
   "outputs": [
    {
     "name": "stdout",
     "output_type": "stream",
     "text": [
      "<class 'pandas.core.frame.DataFrame'>\n",
      "RangeIndex: 5268 entries, 0 to 5267\n",
      "Data columns (total 13 columns):\n",
      " #   Column        Non-Null Count  Dtype  \n",
      "---  ------        --------------  -----  \n",
      " 0   Date          5268 non-null   object \n",
      " 1   Time          3049 non-null   object \n",
      " 2   Location      5248 non-null   object \n",
      " 3   Operator      5250 non-null   object \n",
      " 4   Flight #      1069 non-null   object \n",
      " 5   Route         3561 non-null   object \n",
      " 6   Type          5241 non-null   object \n",
      " 7   Registration  4933 non-null   object \n",
      " 8   cn/In         4040 non-null   object \n",
      " 9   Aboard        5246 non-null   float64\n",
      " 10  Fatalities    5256 non-null   float64\n",
      " 11  Ground        5246 non-null   float64\n",
      " 12  Summary       4878 non-null   object \n",
      "dtypes: float64(3), object(10)\n",
      "memory usage: 535.2+ KB\n"
     ]
    }
   ],
   "source": [
    "df.info()"
   ]
  },
  {
   "cell_type": "code",
   "execution_count": 7,
   "id": "4b9ce1f6-f8e1-40af-92f5-16405c0d0d6f",
   "metadata": {},
   "outputs": [
    {
     "data": {
      "text/html": [
       "<div>\n",
       "<style scoped>\n",
       "    .dataframe tbody tr th:only-of-type {\n",
       "        vertical-align: middle;\n",
       "    }\n",
       "\n",
       "    .dataframe tbody tr th {\n",
       "        vertical-align: top;\n",
       "    }\n",
       "\n",
       "    .dataframe thead th {\n",
       "        text-align: right;\n",
       "    }\n",
       "</style>\n",
       "<table border=\"1\" class=\"dataframe\">\n",
       "  <thead>\n",
       "    <tr style=\"text-align: right;\">\n",
       "      <th></th>\n",
       "      <th>Date</th>\n",
       "      <th>Location</th>\n",
       "      <th>Operator</th>\n",
       "      <th>Route</th>\n",
       "      <th>Type</th>\n",
       "      <th>Aboard</th>\n",
       "      <th>Fatalities</th>\n",
       "      <th>Ground</th>\n",
       "      <th>Summary</th>\n",
       "    </tr>\n",
       "  </thead>\n",
       "  <tbody>\n",
       "    <tr>\n",
       "      <th>0</th>\n",
       "      <td>09/17/1908</td>\n",
       "      <td>Fort Myer, Virginia</td>\n",
       "      <td>Military - U.S. Army</td>\n",
       "      <td>Demonstration</td>\n",
       "      <td>Wright Flyer III</td>\n",
       "      <td>2.0</td>\n",
       "      <td>1.0</td>\n",
       "      <td>0.0</td>\n",
       "      <td>During a demonstration flight, a U.S. Army fly...</td>\n",
       "    </tr>\n",
       "    <tr>\n",
       "      <th>1</th>\n",
       "      <td>07/12/1912</td>\n",
       "      <td>AtlantiCity, New Jersey</td>\n",
       "      <td>Military - U.S. Navy</td>\n",
       "      <td>Test flight</td>\n",
       "      <td>Dirigible</td>\n",
       "      <td>5.0</td>\n",
       "      <td>5.0</td>\n",
       "      <td>0.0</td>\n",
       "      <td>First U.S. dirigible Akron exploded just offsh...</td>\n",
       "    </tr>\n",
       "    <tr>\n",
       "      <th>2</th>\n",
       "      <td>08/06/1913</td>\n",
       "      <td>Victoria, British Columbia, Canada</td>\n",
       "      <td>Private</td>\n",
       "      <td>NaN</td>\n",
       "      <td>Curtiss seaplane</td>\n",
       "      <td>1.0</td>\n",
       "      <td>1.0</td>\n",
       "      <td>0.0</td>\n",
       "      <td>The first fatal airplane accident in Canada oc...</td>\n",
       "    </tr>\n",
       "    <tr>\n",
       "      <th>3</th>\n",
       "      <td>09/09/1913</td>\n",
       "      <td>Over the North Sea</td>\n",
       "      <td>Military - German Navy</td>\n",
       "      <td>NaN</td>\n",
       "      <td>Zeppelin L-1 (airship)</td>\n",
       "      <td>20.0</td>\n",
       "      <td>14.0</td>\n",
       "      <td>0.0</td>\n",
       "      <td>The airship flew into a thunderstorm and encou...</td>\n",
       "    </tr>\n",
       "    <tr>\n",
       "      <th>4</th>\n",
       "      <td>10/17/1913</td>\n",
       "      <td>Near Johannisthal, Germany</td>\n",
       "      <td>Military - German Navy</td>\n",
       "      <td>NaN</td>\n",
       "      <td>Zeppelin L-2 (airship)</td>\n",
       "      <td>30.0</td>\n",
       "      <td>30.0</td>\n",
       "      <td>0.0</td>\n",
       "      <td>Hydrogen gas which was being vented was sucked...</td>\n",
       "    </tr>\n",
       "  </tbody>\n",
       "</table>\n",
       "</div>"
      ],
      "text/plain": [
       "         Date                            Location                Operator  \\\n",
       "0  09/17/1908                 Fort Myer, Virginia    Military - U.S. Army   \n",
       "1  07/12/1912             AtlantiCity, New Jersey    Military - U.S. Navy   \n",
       "2  08/06/1913  Victoria, British Columbia, Canada                 Private   \n",
       "3  09/09/1913                  Over the North Sea  Military - German Navy   \n",
       "4  10/17/1913          Near Johannisthal, Germany  Military - German Navy   \n",
       "\n",
       "           Route                    Type  Aboard  Fatalities  Ground  \\\n",
       "0  Demonstration        Wright Flyer III     2.0         1.0     0.0   \n",
       "1    Test flight               Dirigible     5.0         5.0     0.0   \n",
       "2            NaN        Curtiss seaplane     1.0         1.0     0.0   \n",
       "3            NaN  Zeppelin L-1 (airship)    20.0        14.0     0.0   \n",
       "4            NaN  Zeppelin L-2 (airship)    30.0        30.0     0.0   \n",
       "\n",
       "                                             Summary  \n",
       "0  During a demonstration flight, a U.S. Army fly...  \n",
       "1  First U.S. dirigible Akron exploded just offsh...  \n",
       "2  The first fatal airplane accident in Canada oc...  \n",
       "3  The airship flew into a thunderstorm and encou...  \n",
       "4  Hydrogen gas which was being vented was sucked...  "
      ]
     },
     "execution_count": 7,
     "metadata": {},
     "output_type": "execute_result"
    }
   ],
   "source": [
    "df = df.drop(columns=['Time', 'Flight #', 'Registration', 'cn/In'])\n",
    "df.head(5)"
   ]
  },
  {
   "cell_type": "markdown",
   "id": "1e760ece-c72b-4f03-bb3b-c3154e5ba594",
   "metadata": {},
   "source": [
    "--> Columns are dropped successfuly"
   ]
  },
  {
   "cell_type": "markdown",
   "id": "fc6e8baf-d78e-46c6-9aeb-cdb4a943a08a",
   "metadata": {},
   "source": [
    "### 3) **Handle missing values:**"
   ]
  },
  {
   "cell_type": "code",
   "execution_count": 8,
   "id": "a657add6-e18a-4384-9b50-5043ddcd28e8",
   "metadata": {},
   "outputs": [
    {
     "data": {
      "text/plain": [
       "Date             0\n",
       "Location        20\n",
       "Operator        18\n",
       "Route         1707\n",
       "Type            27\n",
       "Aboard          22\n",
       "Fatalities      12\n",
       "Ground          22\n",
       "Summary        390\n",
       "dtype: int64"
      ]
     },
     "execution_count": 8,
     "metadata": {},
     "output_type": "execute_result"
    }
   ],
   "source": [
    "df.isnull().sum()"
   ]
  },
  {
   "cell_type": "code",
   "execution_count": 9,
   "id": "8d2612e7-e071-464e-b209-7ee036827069",
   "metadata": {},
   "outputs": [
    {
     "data": {
      "text/plain": [
       "(5268, 9)"
      ]
     },
     "execution_count": 9,
     "metadata": {},
     "output_type": "execute_result"
    }
   ],
   "source": [
    "df.shape"
   ]
  },
  {
   "cell_type": "markdown",
   "id": "2dedf042-ca00-493b-9a57-568553fa12aa",
   "metadata": {},
   "source": [
    "Now, I will group data into 2 categories, continuous attributes that I will replace by the mean, and categorical attributes tht I will replace by the most frequence value.\n",
    "\n",
    "- Continuous attributes:\n",
    "  - Aboard\n",
    "  - Fatalities\n",
    "  - Ground\n",
    "- Categorical attributes:\n",
    "  - Location\n",
    "  - Operator\n",
    "  - Route\n",
    "  - Type\n",
    "  - Summary"
   ]
  },
  {
   "cell_type": "markdown",
   "id": "6773deb9-50ac-4ba0-90e7-37ae86e103d6",
   "metadata": {},
   "source": [
    "- **There is no null values for Date**\n",
    "- #### **Crashes are not strongly relatable with a specific time of the day, even tho it still can, in seasons like Falls and Winter...**\n",
    "--\n",
    "- \n",
    "  - *Forward Fill (ffill()) or Backward Fill (bfill())*\n",
    "  - *Linear Interpolation*"
   ]
  },
  {
   "cell_type": "markdown",
   "id": "39fae738-be00-4046-a36e-485c7f1bb6aa",
   "metadata": {},
   "source": [
    "### *for continuous attributes:*"
   ]
  },
  {
   "cell_type": "raw",
   "id": "9ebe3fca-bebb-4fa5-ac80-99d879c30d32",
   "metadata": {},
   "source": [
    "#Aboard -- set it as needed to explore how null values are represented\n",
    "pd.set_option('display.max_rows', 4000)\n",
    "df['Aboard'].head(4000)"
   ]
  },
  {
   "cell_type": "code",
   "execution_count": 10,
   "id": "26906435-299a-4706-8ff3-c4d8977a50d7",
   "metadata": {},
   "outputs": [
    {
     "name": "stdout",
     "output_type": "stream",
     "text": [
      "Aboard null values:  0\n"
     ]
    },
    {
     "name": "stderr",
     "output_type": "stream",
     "text": [
      "C:\\Users\\oo\\AppData\\Local\\Temp\\ipykernel_15328\\2184457946.py:5: FutureWarning: A value is trying to be set on a copy of a DataFrame or Series through chained assignment using an inplace method.\n",
      "The behavior will change in pandas 3.0. This inplace method will never work because the intermediate object on which we are setting values always behaves as a copy.\n",
      "\n",
      "For example, when doing 'df[col].method(value, inplace=True)', try using 'df.method({col: value}, inplace=True)' or df[col] = df[col].method(value) instead, to perform the operation inplace on the original object.\n",
      "\n",
      "\n",
      "  df['Aboard'].replace(np.NaN, aboard_mean, inplace = True)\n"
     ]
    }
   ],
   "source": [
    "#Aboard\n",
    "#Calculate mean of Aboard\n",
    "aboard_mean = df['Aboard'].mean()\n",
    "#Replace NaN with the mean - import numpy for it\n",
    "df['Aboard'].replace(np.NaN, aboard_mean, inplace = True)\n",
    "print(\"Aboard null values: \", df['Aboard'].isnull().sum())"
   ]
  },
  {
   "cell_type": "raw",
   "id": "8f9fe20f-5471-48ea-b0e7-634888659c19",
   "metadata": {},
   "source": [
    "--> we will do  the same for the other continuous variables. TODO..."
   ]
  },
  {
   "cell_type": "code",
   "execution_count": 11,
   "id": "0c893c6a-6fce-47fe-96d8-2691271f309e",
   "metadata": {},
   "outputs": [
    {
     "name": "stdout",
     "output_type": "stream",
     "text": [
      "Fatalities null values:  0\n"
     ]
    },
    {
     "name": "stderr",
     "output_type": "stream",
     "text": [
      "C:\\Users\\oo\\AppData\\Local\\Temp\\ipykernel_15328\\4202733177.py:3: FutureWarning: A value is trying to be set on a copy of a DataFrame or Series through chained assignment using an inplace method.\n",
      "The behavior will change in pandas 3.0. This inplace method will never work because the intermediate object on which we are setting values always behaves as a copy.\n",
      "\n",
      "For example, when doing 'df[col].method(value, inplace=True)', try using 'df.method({col: value}, inplace=True)' or df[col] = df[col].method(value) instead, to perform the operation inplace on the original object.\n",
      "\n",
      "\n",
      "  df['Fatalities'].replace(np.NaN, fatalities_mean, inplace = True)\n"
     ]
    }
   ],
   "source": [
    "#Fatalities\n",
    "fatalities_mean = df['Fatalities'].mean()\n",
    "df['Fatalities'].replace(np.NaN, fatalities_mean, inplace = True)\n",
    "print(\"Fatalities null values: \", df['Fatalities'].isnull().sum())"
   ]
  },
  {
   "cell_type": "code",
   "execution_count": 12,
   "id": "c5272c4d-1310-4ae7-93cc-828d6e17207e",
   "metadata": {},
   "outputs": [
    {
     "name": "stdout",
     "output_type": "stream",
     "text": [
      "Ground null values:  0\n"
     ]
    },
    {
     "name": "stderr",
     "output_type": "stream",
     "text": [
      "C:\\Users\\oo\\AppData\\Local\\Temp\\ipykernel_15328\\2287460621.py:3: FutureWarning: A value is trying to be set on a copy of a DataFrame or Series through chained assignment using an inplace method.\n",
      "The behavior will change in pandas 3.0. This inplace method will never work because the intermediate object on which we are setting values always behaves as a copy.\n",
      "\n",
      "For example, when doing 'df[col].method(value, inplace=True)', try using 'df.method({col: value}, inplace=True)' or df[col] = df[col].method(value) instead, to perform the operation inplace on the original object.\n",
      "\n",
      "\n",
      "  df['Ground'].replace(np.NaN, ground_mean, inplace = True)\n"
     ]
    }
   ],
   "source": [
    "#Ground\n",
    "ground_mean = df['Ground'].mean()\n",
    "df['Ground'].replace(np.NaN, ground_mean, inplace = True)\n",
    "print(\"Ground null values: \", df['Ground'].isnull().sum())"
   ]
  },
  {
   "cell_type": "markdown",
   "id": "2c206c90-8996-453c-bf34-00b2a1f13ce6",
   "metadata": {},
   "source": [
    "### *for categorical attributes:*"
   ]
  },
  {
   "cell_type": "raw",
   "id": "d34d1601-18ba-443b-b56d-b4e1e7f786c4",
   "metadata": {},
   "source": [
    "I will replace them with the most frequent value, using value_counts().idxmax or mode()[0].\n",
    "In this project, I will use the mode."
   ]
  },
  {
   "cell_type": "raw",
   "id": "6288ed3a-929e-4357-8cc7-0fe20e60a14a",
   "metadata": {},
   "source": [
    "- Categorical attributes:\n",
    "  - Location\n",
    "  - Operator\n",
    "  - Route\n",
    "  - Type\n",
    "  - Summary"
   ]
  },
  {
   "cell_type": "code",
   "execution_count": 13,
   "id": "3cfa7986-580b-4b37-9b1d-cd970dd375ef",
   "metadata": {},
   "outputs": [
    {
     "name": "stdout",
     "output_type": "stream",
     "text": [
      "Location null values:  20\n",
      "Location null values:  0\n"
     ]
    },
    {
     "name": "stderr",
     "output_type": "stream",
     "text": [
      "C:\\Users\\oo\\AppData\\Local\\Temp\\ipykernel_15328\\2519789998.py:6: FutureWarning: A value is trying to be set on a copy of a DataFrame or Series through chained assignment using an inplace method.\n",
      "The behavior will change in pandas 3.0. This inplace method will never work because the intermediate object on which we are setting values always behaves as a copy.\n",
      "\n",
      "For example, when doing 'df[col].method(value, inplace=True)', try using 'df.method({col: value}, inplace=True)' or df[col] = df[col].method(value) instead, to perform the operation inplace on the original object.\n",
      "\n",
      "\n",
      "  df['Location'].fillna(value=location_maxFreq, inplace=True)\n"
     ]
    }
   ],
   "source": [
    "#Location\n",
    "#Calculate most frequent value\n",
    "print(\"Location null values: \", df['Location'].isnull().sum())\n",
    "location_maxFreq = df['Location'].mode()[0]\n",
    "#Replace NaN with the mean - import numpy for it\n",
    "df['Location'].fillna(value=location_maxFreq, inplace=True)\n",
    "print(\"Location null values: \", df['Location'].isnull().sum())"
   ]
  },
  {
   "cell_type": "code",
   "execution_count": 14,
   "id": "5dc1db5f-cb95-4d62-a98e-ced7203e8269",
   "metadata": {},
   "outputs": [
    {
     "name": "stdout",
     "output_type": "stream",
     "text": [
      "Operator null values:  18\n",
      "Operator null values:  0\n"
     ]
    },
    {
     "name": "stderr",
     "output_type": "stream",
     "text": [
      "C:\\Users\\oo\\AppData\\Local\\Temp\\ipykernel_15328\\1632895995.py:4: FutureWarning: A value is trying to be set on a copy of a DataFrame or Series through chained assignment using an inplace method.\n",
      "The behavior will change in pandas 3.0. This inplace method will never work because the intermediate object on which we are setting values always behaves as a copy.\n",
      "\n",
      "For example, when doing 'df[col].method(value, inplace=True)', try using 'df.method({col: value}, inplace=True)' or df[col] = df[col].method(value) instead, to perform the operation inplace on the original object.\n",
      "\n",
      "\n",
      "  df['Operator'].fillna(value=operator_maxFreq, inplace=True)\n"
     ]
    }
   ],
   "source": [
    "#Operator\n",
    "print(\"Operator null values: \", df['Operator'].isnull().sum())\n",
    "operator_maxFreq = df['Operator'].mode()[0]\n",
    "df['Operator'].fillna(value=operator_maxFreq, inplace=True)\n",
    "print(\"Operator null values: \", df['Operator'].isnull().sum())"
   ]
  },
  {
   "cell_type": "code",
   "execution_count": 15,
   "id": "95029bd1-934a-42f4-b550-d04598652ffc",
   "metadata": {},
   "outputs": [
    {
     "name": "stdout",
     "output_type": "stream",
     "text": [
      "Route null values:  1707\n",
      "Training\n",
      "Route null values:  0\n"
     ]
    },
    {
     "name": "stderr",
     "output_type": "stream",
     "text": [
      "C:\\Users\\oo\\AppData\\Local\\Temp\\ipykernel_15328\\3434967214.py:5: FutureWarning: A value is trying to be set on a copy of a DataFrame or Series through chained assignment using an inplace method.\n",
      "The behavior will change in pandas 3.0. This inplace method will never work because the intermediate object on which we are setting values always behaves as a copy.\n",
      "\n",
      "For example, when doing 'df[col].method(value, inplace=True)', try using 'df.method({col: value}, inplace=True)' or df[col] = df[col].method(value) instead, to perform the operation inplace on the original object.\n",
      "\n",
      "\n",
      "  df['Route'].fillna(value=route_maxFreq, inplace=True)\n"
     ]
    }
   ],
   "source": [
    "#Route\n",
    "print(\"Route null values: \", df['Route'].isnull().sum())\n",
    "route_maxFreq = df['Route'].mode()[0]\n",
    "print(route_maxFreq)\n",
    "df['Route'].fillna(value=route_maxFreq, inplace=True)\n",
    "print(\"Route null values: \", df['Route'].isnull().sum())"
   ]
  },
  {
   "cell_type": "code",
   "execution_count": 16,
   "id": "36b23683-0a82-4980-b621-98fb365a53c5",
   "metadata": {},
   "outputs": [
    {
     "name": "stdout",
     "output_type": "stream",
     "text": [
      "Type null values:  27\n",
      "Frequent value:  Douglas DC-3\n",
      "Type null values:  0\n"
     ]
    },
    {
     "name": "stderr",
     "output_type": "stream",
     "text": [
      "C:\\Users\\oo\\AppData\\Local\\Temp\\ipykernel_15328\\3869720396.py:5: FutureWarning: A value is trying to be set on a copy of a DataFrame or Series through chained assignment using an inplace method.\n",
      "The behavior will change in pandas 3.0. This inplace method will never work because the intermediate object on which we are setting values always behaves as a copy.\n",
      "\n",
      "For example, when doing 'df[col].method(value, inplace=True)', try using 'df.method({col: value}, inplace=True)' or df[col] = df[col].method(value) instead, to perform the operation inplace on the original object.\n",
      "\n",
      "\n",
      "  df['Type'].fillna(value=ACType_maxFreq, inplace=True)\n"
     ]
    }
   ],
   "source": [
    "#AC Type\n",
    "print(\"Type null values: \", df['Type'].isnull().sum())\n",
    "ACType_maxFreq = df['Type'].mode()[0]\n",
    "print(\"Frequent value: \",ACType_maxFreq)\n",
    "df['Type'].fillna(value=ACType_maxFreq, inplace=True)\n",
    "print(\"Type null values: \", df['Type'].isnull().sum())"
   ]
  },
  {
   "cell_type": "code",
   "execution_count": 17,
   "id": "5030e035-add3-4466-9af0-7ad8388d446f",
   "metadata": {},
   "outputs": [
    {
     "data": {
      "text/plain": [
       "390"
      ]
     },
     "execution_count": 17,
     "metadata": {},
     "output_type": "execute_result"
    }
   ],
   "source": [
    "df['Summary'].isnull().sum()"
   ]
  },
  {
   "cell_type": "code",
   "execution_count": 18,
   "id": "65426d10-6197-439b-885e-3594b27c239b",
   "metadata": {},
   "outputs": [
    {
     "data": {
      "text/plain": [
       "'Crashed during takeoff.'"
      ]
     },
     "execution_count": 18,
     "metadata": {},
     "output_type": "execute_result"
    }
   ],
   "source": [
    "df['Summary'].mode()[0]"
   ]
  },
  {
   "cell_type": "code",
   "execution_count": 19,
   "id": "04d5e87d-7065-4919-9e94-7be38d77cc19",
   "metadata": {},
   "outputs": [
    {
     "name": "stdout",
     "output_type": "stream",
     "text": [
      "Summary null values:  390\n",
      "Summary null values:  0\n"
     ]
    },
    {
     "name": "stderr",
     "output_type": "stream",
     "text": [
      "C:\\Users\\oo\\AppData\\Local\\Temp\\ipykernel_15328\\3618811021.py:6: FutureWarning: A value is trying to be set on a copy of a DataFrame or Series through chained assignment using an inplace method.\n",
      "The behavior will change in pandas 3.0. This inplace method will never work because the intermediate object on which we are setting values always behaves as a copy.\n",
      "\n",
      "For example, when doing 'df[col].method(value, inplace=True)', try using 'df.method({col: value}, inplace=True)' or df[col] = df[col].method(value) instead, to perform the operation inplace on the original object.\n",
      "\n",
      "\n",
      "  df['Summary'].fillna(value=summary_maxFreq, inplace=True)\n"
     ]
    }
   ],
   "source": [
    "#Summary\n",
    "#From previous line, the most frequent value looks better than keeping the null data\n",
    "print(\"Summary null values: \", df['Summary'].isnull().sum())\n",
    "summary_maxFreq = df['Summary'].mode()[0]\n",
    "# print(\"Frequent value: \",CnLn_maxFreq)\n",
    "df['Summary'].fillna(value=summary_maxFreq, inplace=True)\n",
    "print(\"Summary null values: \", df['Summary'].isnull().sum())"
   ]
  },
  {
   "cell_type": "code",
   "execution_count": 20,
   "id": "ec5b4a81-10f6-47dd-9731-ec2dca0f4997",
   "metadata": {},
   "outputs": [
    {
     "data": {
      "text/plain": [
       "Date          0\n",
       "Location      0\n",
       "Operator      0\n",
       "Route         0\n",
       "Type          0\n",
       "Aboard        0\n",
       "Fatalities    0\n",
       "Ground        0\n",
       "Summary       0\n",
       "dtype: int64"
      ]
     },
     "execution_count": 20,
     "metadata": {},
     "output_type": "execute_result"
    }
   ],
   "source": [
    "df.isnull().sum()"
   ]
  },
  {
   "cell_type": "markdown",
   "id": "cf165f2e-3b93-44b6-80a8-12366d674741",
   "metadata": {},
   "source": [
    "### 4) **Detect && Remove outliers:**"
   ]
  },
  {
   "cell_type": "code",
   "execution_count": 21,
   "id": "c9a1d2ae-91f3-403b-8e11-ecae27b00435",
   "metadata": {},
   "outputs": [
    {
     "data": {
      "text/html": [
       "<div>\n",
       "<style scoped>\n",
       "    .dataframe tbody tr th:only-of-type {\n",
       "        vertical-align: middle;\n",
       "    }\n",
       "\n",
       "    .dataframe tbody tr th {\n",
       "        vertical-align: top;\n",
       "    }\n",
       "\n",
       "    .dataframe thead th {\n",
       "        text-align: right;\n",
       "    }\n",
       "</style>\n",
       "<table border=\"1\" class=\"dataframe\">\n",
       "  <thead>\n",
       "    <tr style=\"text-align: right;\">\n",
       "      <th></th>\n",
       "      <th>Aboard</th>\n",
       "      <th>Fatalities</th>\n",
       "      <th>Ground</th>\n",
       "    </tr>\n",
       "  </thead>\n",
       "  <tbody>\n",
       "    <tr>\n",
       "      <th>count</th>\n",
       "      <td>5268.000000</td>\n",
       "      <td>5268.000000</td>\n",
       "      <td>5268.000000</td>\n",
       "    </tr>\n",
       "    <tr>\n",
       "      <th>mean</th>\n",
       "      <td>27.554518</td>\n",
       "      <td>20.068303</td>\n",
       "      <td>1.608845</td>\n",
       "    </tr>\n",
       "    <tr>\n",
       "      <th>std</th>\n",
       "      <td>42.986652</td>\n",
       "      <td>33.162110</td>\n",
       "      <td>53.874957</td>\n",
       "    </tr>\n",
       "    <tr>\n",
       "      <th>min</th>\n",
       "      <td>0.000000</td>\n",
       "      <td>0.000000</td>\n",
       "      <td>0.000000</td>\n",
       "    </tr>\n",
       "    <tr>\n",
       "      <th>25%</th>\n",
       "      <td>5.000000</td>\n",
       "      <td>3.000000</td>\n",
       "      <td>0.000000</td>\n",
       "    </tr>\n",
       "    <tr>\n",
       "      <th>50%</th>\n",
       "      <td>13.000000</td>\n",
       "      <td>9.000000</td>\n",
       "      <td>0.000000</td>\n",
       "    </tr>\n",
       "    <tr>\n",
       "      <th>75%</th>\n",
       "      <td>30.000000</td>\n",
       "      <td>23.000000</td>\n",
       "      <td>0.000000</td>\n",
       "    </tr>\n",
       "    <tr>\n",
       "      <th>max</th>\n",
       "      <td>644.000000</td>\n",
       "      <td>583.000000</td>\n",
       "      <td>2750.000000</td>\n",
       "    </tr>\n",
       "  </tbody>\n",
       "</table>\n",
       "</div>"
      ],
      "text/plain": [
       "            Aboard   Fatalities       Ground\n",
       "count  5268.000000  5268.000000  5268.000000\n",
       "mean     27.554518    20.068303     1.608845\n",
       "std      42.986652    33.162110    53.874957\n",
       "min       0.000000     0.000000     0.000000\n",
       "25%       5.000000     3.000000     0.000000\n",
       "50%      13.000000     9.000000     0.000000\n",
       "75%      30.000000    23.000000     0.000000\n",
       "max     644.000000   583.000000  2750.000000"
      ]
     },
     "execution_count": 21,
     "metadata": {},
     "output_type": "execute_result"
    }
   ],
   "source": [
    "df.describe()"
   ]
  },
  {
   "cell_type": "code",
   "execution_count": 22,
   "id": "ea9578ee-bdfe-490e-b4f8-6ca9fb16da9c",
   "metadata": {},
   "outputs": [],
   "source": [
    "import seaborn as sns"
   ]
  },
  {
   "cell_type": "code",
   "execution_count": 23,
   "id": "c4ff4ec9-c8a2-4fa8-961e-e5fe3d449e93",
   "metadata": {},
   "outputs": [
    {
     "name": "stderr",
     "output_type": "stream",
     "text": [
      "C:\\Users\\oo\\AppData\\Local\\Temp\\ipykernel_15328\\3571435636.py:1: UserWarning: \n",
      "\n",
      "`distplot` is a deprecated function and will be removed in seaborn v0.14.0.\n",
      "\n",
      "Please adapt your code to use either `displot` (a figure-level function with\n",
      "similar flexibility) or `histplot` (an axes-level function for histograms).\n",
      "\n",
      "For a guide to updating your code to use the new functions, please see\n",
      "https://gist.github.com/mwaskom/de44147ed2974457ad6372750bbe5751\n",
      "\n",
      "  sns.distplot(df['Aboard'])\n",
      "C:\\Users\\oo\\AppData\\Local\\Programs\\Python\\Python311\\Lib\\site-packages\\seaborn\\_oldcore.py:1119: FutureWarning: use_inf_as_na option is deprecated and will be removed in a future version. Convert inf values to NaN before operating instead.\n",
      "  with pd.option_context('mode.use_inf_as_na', True):\n"
     ]
    },
    {
     "data": {
      "text/plain": [
       "<Axes: xlabel='Aboard', ylabel='Density'>"
      ]
     },
     "execution_count": 23,
     "metadata": {},
     "output_type": "execute_result"
    },
    {
     "data": {
      "image/png": "[encoded data removed]",
      "text/plain": [
       "<Figure size 640x480 with 1 Axes>"
      ]
     },
     "metadata": {},
     "output_type": "display_data"
    }
   ],
   "source": [
    "sns.distplot(df['Aboard'])"
   ]
  },
  {
   "cell_type": "code",
   "execution_count": 24,
   "id": "314c153e-b736-408d-9906-24765d77acbe",
   "metadata": {},
   "outputs": [
    {
     "data": {
      "text/plain": [
       "<Axes: >"
      ]
     },
     "execution_count": 24,
     "metadata": {},
     "output_type": "execute_result"
    },
    {
     "data": {
      "image/png": "[encoded data removed]",
      "text/plain": [
       "<Figure size 640x480 with 1 Axes>"
      ]
     },
     "metadata": {},
     "output_type": "display_data"
    }
   ],
   "source": [
    "sns.boxplot(df['Aboard'])"
   ]
  },
  {
   "cell_type": "markdown",
   "id": "1757d372-27a5-473b-ad94-b15656349818",
   "metadata": {},
   "source": [
    "It's cleaar that we have an outlier here, so let's try to remove it using z-score"
   ]
  },
  {
   "cell_type": "code",
   "execution_count": 25,
   "id": "645541e4-79a9-46f9-b667-8bdf60f6dd18",
   "metadata": {},
   "outputs": [
    {
     "name": "stdout",
     "output_type": "stream",
     "text": [
      "Outliers:\n"
     ]
    }
   ],
   "source": [
    "df['z_score'] = (df['Aboard'] - df['Aboard'].mean()) / df['Aboard'].std()\n",
    "\n",
    "# Find outliers (threshold: Z-score > 3 or Z-score < -3)\n",
    "outliers = df[(df['z_score'] > 3) | (df['z_score'] < -3)]\n",
    "print(\"Outliers:\")\n",
    "# print(outliers) #uncomment to see"
   ]
  },
  {
   "cell_type": "code",
   "execution_count": 26,
   "id": "3ec7f7bb-0abf-4a00-9bbf-0184f2c30bf8",
   "metadata": {},
   "outputs": [
    {
     "name": "stdout",
     "output_type": "stream",
     "text": [
      "Original DataFrame's shape:\n",
      "(5268, 10)\n",
      "\n",
      "DataFrame after removing outliers shape:\n",
      "(5152, 10)\n"
     ]
    }
   ],
   "source": [
    "cleaned_outliers_df = df.drop(outliers.index)\n",
    "print(\"Original DataFrame's shape:\")\n",
    "print(df.shape)\n",
    "print(\"\\nDataFrame after removing outliers shape:\")\n",
    "print(cleaned_outliers_df.shape)"
   ]
  },
  {
   "cell_type": "code",
   "execution_count": 27,
   "id": "c9491c99-99a1-49d4-91ef-aa4a8e89395b",
   "metadata": {},
   "outputs": [
    {
     "data": {
      "text/plain": [
       "<Axes: >"
      ]
     },
     "execution_count": 27,
     "metadata": {},
     "output_type": "execute_result"
    },
    {
     "data": {
      "image/png": "[encoded data removed]",
      "text/plain": [
       "<Figure size 640x480 with 1 Axes>"
      ]
     },
     "metadata": {},
     "output_type": "display_data"
    }
   ],
   "source": [
    "sns.boxplot(cleaned_outliers_df['Aboard'])"
   ]
  },
  {
   "cell_type": "markdown",
   "id": "24a87384-72f2-4274-9b97-10d729f6e862",
   "metadata": {},
   "source": [
    "--> The outliers haas been removed...we do the same for the other coolumns"
   ]
  },
  {
   "cell_type": "code",
   "execution_count": 28,
   "id": "c608214c-8c7e-4c37-9fa4-08a89b3cc6f6",
   "metadata": {},
   "outputs": [
    {
     "data": {
      "text/plain": [
       "<Axes: >"
      ]
     },
     "execution_count": 28,
     "metadata": {},
     "output_type": "execute_result"
    },
    {
     "data": {
      "image/png": "[encoded data removed]",
      "text/plain": [
       "<Figure size 640x480 with 1 Axes>"
      ]
     },
     "metadata": {},
     "output_type": "display_data"
    }
   ],
   "source": [
    "#Fatalities\n",
    "sns.boxplot(df['Fatalities'])"
   ]
  },
  {
   "cell_type": "code",
   "execution_count": 29,
   "id": "87487789-65b8-4614-92ac-3b592f24747a",
   "metadata": {},
   "outputs": [
    {
     "data": {
      "text/plain": [
       "<Axes: >"
      ]
     },
     "execution_count": 29,
     "metadata": {},
     "output_type": "execute_result"
    },
    {
     "data": {
      "image/png": "[encoded data removed]",
      "text/plain": [
       "<Figure size 640x480 with 1 Axes>"
      ]
     },
     "metadata": {},
     "output_type": "display_data"
    }
   ],
   "source": [
    "#Fatalities\n",
    "sns.boxplot(cleaned_outliers_df['Fatalities'])"
   ]
  },
  {
   "cell_type": "code",
   "execution_count": 30,
   "id": "385b86c9-e6d0-416f-b091-7a99bc7f0362",
   "metadata": {},
   "outputs": [
    {
     "data": {
      "text/plain": [
       "<Axes: >"
      ]
     },
     "execution_count": 30,
     "metadata": {},
     "output_type": "execute_result"
    },
    {
     "data": {
      "image/png": "[encoded data removed]",
      "text/plain": [
       "<Figure size 640x480 with 1 Axes>"
      ]
     },
     "metadata": {},
     "output_type": "display_data"
    }
   ],
   "source": [
    "#Ground\n",
    "sns.boxplot(df['Ground'])"
   ]
  },
  {
   "cell_type": "code",
   "execution_count": 31,
   "id": "a09aa342-2db0-4260-82b1-390f6a5bbe2e",
   "metadata": {},
   "outputs": [
    {
     "data": {
      "text/plain": [
       "<Axes: >"
      ]
     },
     "execution_count": 31,
     "metadata": {},
     "output_type": "execute_result"
    },
    {
     "data": {
      "image/png": "[encoded data removed]",
      "text/plain": [
       "<Figure size 640x480 with 1 Axes>"
      ]
     },
     "metadata": {},
     "output_type": "display_data"
    }
   ],
   "source": [
    "#Ground\n",
    "sns.boxplot(cleaned_outliers_df['Ground'])"
   ]
  },
  {
   "cell_type": "code",
   "execution_count": 32,
   "id": "07b4d033-b653-4c67-997e-fdf39357abe7",
   "metadata": {},
   "outputs": [
    {
     "name": "stdout",
     "output_type": "stream",
     "text": [
      "Outliers:\n",
      "Original DataFrame's shape:\n",
      "(5152, 10)\n",
      "\n",
      "DataFrame after removing outliers shape:\n",
      "(5149, 10)\n"
     ]
    }
   ],
   "source": [
    "cleaned_outliers_df['z_score'] = (cleaned_outliers_df['Ground'] - cleaned_outliers_df['Ground'].mean()) / cleaned_outliers_df['Ground'].std()\n",
    "\n",
    "# Find outliers (threshold: Z-score > 3 or Z-score < -3)\n",
    "outliers = cleaned_outliers_df[(cleaned_outliers_df['z_score'] > 3) | (cleaned_outliers_df['z_score'] < -3)]\n",
    "print(\"Outliers:\")\n",
    "# print(outliers) #uncomment to see\n",
    "cleaned_outliers_dff = cleaned_outliers_df.drop(outliers.index)\n",
    "print(\"Original DataFrame's shape:\")\n",
    "print(cleaned_outliers_df.shape)\n",
    "print(\"\\nDataFrame after removing outliers shape:\")\n",
    "print(cleaned_outliers_dff.shape)"
   ]
  },
  {
   "cell_type": "code",
   "execution_count": 33,
   "id": "717b2bbd-0904-4815-bfa4-acc3abc0fbed",
   "metadata": {},
   "outputs": [
    {
     "data": {
      "text/plain": [
       "<Axes: >"
      ]
     },
     "execution_count": 33,
     "metadata": {},
     "output_type": "execute_result"
    },
    {
     "data": {
      "image/png": "[encoded data removed]",
      "text/plain": [
       "<Figure size 640x480 with 1 Axes>"
      ]
     },
     "metadata": {},
     "output_type": "display_data"
    }
   ],
   "source": [
    "#Ground\n",
    "sns.boxplot(cleaned_outliers_dff['Ground'])"
   ]
  },
  {
   "cell_type": "code",
   "execution_count": 34,
   "id": "373f72f1-6df3-4ea3-9dd3-c54744e421a6",
   "metadata": {},
   "outputs": [
    {
     "data": {
      "text/html": [
       "<div>\n",
       "<style scoped>\n",
       "    .dataframe tbody tr th:only-of-type {\n",
       "        vertical-align: middle;\n",
       "    }\n",
       "\n",
       "    .dataframe tbody tr th {\n",
       "        vertical-align: top;\n",
       "    }\n",
       "\n",
       "    .dataframe thead th {\n",
       "        text-align: right;\n",
       "    }\n",
       "</style>\n",
       "<table border=\"1\" class=\"dataframe\">\n",
       "  <thead>\n",
       "    <tr style=\"text-align: right;\">\n",
       "      <th></th>\n",
       "      <th>Aboard</th>\n",
       "      <th>Fatalities</th>\n",
       "      <th>Ground</th>\n",
       "      <th>z_score</th>\n",
       "    </tr>\n",
       "  </thead>\n",
       "  <tbody>\n",
       "    <tr>\n",
       "      <th>count</th>\n",
       "      <td>5149.000000</td>\n",
       "      <td>5149.000000</td>\n",
       "      <td>5149.000000</td>\n",
       "      <td>5149.000000</td>\n",
       "    </tr>\n",
       "    <tr>\n",
       "      <th>mean</th>\n",
       "      <td>22.939833</td>\n",
       "      <td>17.579883</td>\n",
       "      <td>0.524645</td>\n",
       "      <td>-0.020392</td>\n",
       "    </tr>\n",
       "    <tr>\n",
       "      <th>std</th>\n",
       "      <td>27.950526</td>\n",
       "      <td>23.593153</td>\n",
       "      <td>4.902659</td>\n",
       "      <td>0.089995</td>\n",
       "    </tr>\n",
       "    <tr>\n",
       "      <th>min</th>\n",
       "      <td>0.000000</td>\n",
       "      <td>0.000000</td>\n",
       "      <td>0.000000</td>\n",
       "      <td>-0.030023</td>\n",
       "    </tr>\n",
       "    <tr>\n",
       "      <th>25%</th>\n",
       "      <td>5.000000</td>\n",
       "      <td>3.000000</td>\n",
       "      <td>0.000000</td>\n",
       "      <td>-0.030023</td>\n",
       "    </tr>\n",
       "    <tr>\n",
       "      <th>50%</th>\n",
       "      <td>13.000000</td>\n",
       "      <td>9.000000</td>\n",
       "      <td>0.000000</td>\n",
       "      <td>-0.030023</td>\n",
       "    </tr>\n",
       "    <tr>\n",
       "      <th>75%</th>\n",
       "      <td>28.000000</td>\n",
       "      <td>22.000000</td>\n",
       "      <td>0.000000</td>\n",
       "      <td>-0.030023</td>\n",
       "    </tr>\n",
       "    <tr>\n",
       "      <th>max</th>\n",
       "      <td>156.000000</td>\n",
       "      <td>156.000000</td>\n",
       "      <td>125.000000</td>\n",
       "      <td>2.264512</td>\n",
       "    </tr>\n",
       "  </tbody>\n",
       "</table>\n",
       "</div>"
      ],
      "text/plain": [
       "            Aboard   Fatalities       Ground      z_score\n",
       "count  5149.000000  5149.000000  5149.000000  5149.000000\n",
       "mean     22.939833    17.579883     0.524645    -0.020392\n",
       "std      27.950526    23.593153     4.902659     0.089995\n",
       "min       0.000000     0.000000     0.000000    -0.030023\n",
       "25%       5.000000     3.000000     0.000000    -0.030023\n",
       "50%      13.000000     9.000000     0.000000    -0.030023\n",
       "75%      28.000000    22.000000     0.000000    -0.030023\n",
       "max     156.000000   156.000000   125.000000     2.264512"
      ]
     },
     "execution_count": 34,
     "metadata": {},
     "output_type": "execute_result"
    }
   ],
   "source": [
    "cleaned_outliers_dff.describe()"
   ]
  },
  {
   "cell_type": "markdown",
   "id": "abd125c1-a2ff-4f00-ab3e-8c70099a1133",
   "metadata": {},
   "source": [
    "### 4) **Standardizing data structure and types:**"
   ]
  },
  {
   "cell_type": "code",
   "execution_count": 35,
   "id": "28af28b6-5937-423d-87d2-717b6ac27621",
   "metadata": {},
   "outputs": [],
   "source": [
    "#not using copy, so both variables will point to the same data.\n",
    "dff = cleaned_outliers_dff"
   ]
  },
  {
   "cell_type": "code",
   "execution_count": 36,
   "id": "6e63390a-70b6-4441-b701-97a47f4f73c2",
   "metadata": {},
   "outputs": [
    {
     "name": "stdout",
     "output_type": "stream",
     "text": [
      "<class 'pandas.core.frame.DataFrame'>\n",
      "Index: 5149 entries, 0 to 5267\n",
      "Data columns (total 10 columns):\n",
      " #   Column      Non-Null Count  Dtype  \n",
      "---  ------      --------------  -----  \n",
      " 0   Date        5149 non-null   object \n",
      " 1   Location    5149 non-null   object \n",
      " 2   Operator    5149 non-null   object \n",
      " 3   Route       5149 non-null   object \n",
      " 4   Type        5149 non-null   object \n",
      " 5   Aboard      5149 non-null   float64\n",
      " 6   Fatalities  5149 non-null   float64\n",
      " 7   Ground      5149 non-null   float64\n",
      " 8   Summary     5149 non-null   object \n",
      " 9   z_score     5149 non-null   float64\n",
      "dtypes: float64(4), object(6)\n",
      "memory usage: 571.5+ KB\n"
     ]
    }
   ],
   "source": [
    "dff.info()"
   ]
  },
  {
   "cell_type": "code",
   "execution_count": 37,
   "id": "a8476ca2-e9f1-429b-a379-d8784384a0e9",
   "metadata": {},
   "outputs": [
    {
     "data": {
      "text/html": [
       "<div>\n",
       "<style scoped>\n",
       "    .dataframe tbody tr th:only-of-type {\n",
       "        vertical-align: middle;\n",
       "    }\n",
       "\n",
       "    .dataframe tbody tr th {\n",
       "        vertical-align: top;\n",
       "    }\n",
       "\n",
       "    .dataframe thead th {\n",
       "        text-align: right;\n",
       "    }\n",
       "</style>\n",
       "<table border=\"1\" class=\"dataframe\">\n",
       "  <thead>\n",
       "    <tr style=\"text-align: right;\">\n",
       "      <th></th>\n",
       "      <th>Date</th>\n",
       "      <th>Location</th>\n",
       "      <th>Operator</th>\n",
       "      <th>Route</th>\n",
       "      <th>Type</th>\n",
       "      <th>Aboard</th>\n",
       "      <th>Fatalities</th>\n",
       "      <th>Ground</th>\n",
       "      <th>Summary</th>\n",
       "      <th>z_score</th>\n",
       "    </tr>\n",
       "  </thead>\n",
       "  <tbody>\n",
       "    <tr>\n",
       "      <th>0</th>\n",
       "      <td>09/17/1908</td>\n",
       "      <td>Fort Myer, Virginia</td>\n",
       "      <td>Military - U.S. Army</td>\n",
       "      <td>Demonstration</td>\n",
       "      <td>Wright Flyer III</td>\n",
       "      <td>2.0</td>\n",
       "      <td>1.0</td>\n",
       "      <td>0.0</td>\n",
       "      <td>During a demonstration flight, a U.S. Army fly...</td>\n",
       "      <td>-0.030023</td>\n",
       "    </tr>\n",
       "    <tr>\n",
       "      <th>1</th>\n",
       "      <td>07/12/1912</td>\n",
       "      <td>AtlantiCity, New Jersey</td>\n",
       "      <td>Military - U.S. Navy</td>\n",
       "      <td>Test flight</td>\n",
       "      <td>Dirigible</td>\n",
       "      <td>5.0</td>\n",
       "      <td>5.0</td>\n",
       "      <td>0.0</td>\n",
       "      <td>First U.S. dirigible Akron exploded just offsh...</td>\n",
       "      <td>-0.030023</td>\n",
       "    </tr>\n",
       "    <tr>\n",
       "      <th>2</th>\n",
       "      <td>08/06/1913</td>\n",
       "      <td>Victoria, British Columbia, Canada</td>\n",
       "      <td>Private</td>\n",
       "      <td>Training</td>\n",
       "      <td>Curtiss seaplane</td>\n",
       "      <td>1.0</td>\n",
       "      <td>1.0</td>\n",
       "      <td>0.0</td>\n",
       "      <td>The first fatal airplane accident in Canada oc...</td>\n",
       "      <td>-0.030023</td>\n",
       "    </tr>\n",
       "    <tr>\n",
       "      <th>3</th>\n",
       "      <td>09/09/1913</td>\n",
       "      <td>Over the North Sea</td>\n",
       "      <td>Military - German Navy</td>\n",
       "      <td>Training</td>\n",
       "      <td>Zeppelin L-1 (airship)</td>\n",
       "      <td>20.0</td>\n",
       "      <td>14.0</td>\n",
       "      <td>0.0</td>\n",
       "      <td>The airship flew into a thunderstorm and encou...</td>\n",
       "      <td>-0.030023</td>\n",
       "    </tr>\n",
       "    <tr>\n",
       "      <th>4</th>\n",
       "      <td>10/17/1913</td>\n",
       "      <td>Near Johannisthal, Germany</td>\n",
       "      <td>Military - German Navy</td>\n",
       "      <td>Training</td>\n",
       "      <td>Zeppelin L-2 (airship)</td>\n",
       "      <td>30.0</td>\n",
       "      <td>30.0</td>\n",
       "      <td>0.0</td>\n",
       "      <td>Hydrogen gas which was being vented was sucked...</td>\n",
       "      <td>-0.030023</td>\n",
       "    </tr>\n",
       "  </tbody>\n",
       "</table>\n",
       "</div>"
      ],
      "text/plain": [
       "         Date                            Location                Operator  \\\n",
       "0  09/17/1908                 Fort Myer, Virginia    Military - U.S. Army   \n",
       "1  07/12/1912             AtlantiCity, New Jersey    Military - U.S. Navy   \n",
       "2  08/06/1913  Victoria, British Columbia, Canada                 Private   \n",
       "3  09/09/1913                  Over the North Sea  Military - German Navy   \n",
       "4  10/17/1913          Near Johannisthal, Germany  Military - German Navy   \n",
       "\n",
       "           Route                    Type  Aboard  Fatalities  Ground  \\\n",
       "0  Demonstration        Wright Flyer III     2.0         1.0     0.0   \n",
       "1    Test flight               Dirigible     5.0         5.0     0.0   \n",
       "2       Training        Curtiss seaplane     1.0         1.0     0.0   \n",
       "3       Training  Zeppelin L-1 (airship)    20.0        14.0     0.0   \n",
       "4       Training  Zeppelin L-2 (airship)    30.0        30.0     0.0   \n",
       "\n",
       "                                             Summary   z_score  \n",
       "0  During a demonstration flight, a U.S. Army fly... -0.030023  \n",
       "1  First U.S. dirigible Akron exploded just offsh... -0.030023  \n",
       "2  The first fatal airplane accident in Canada oc... -0.030023  \n",
       "3  The airship flew into a thunderstorm and encou... -0.030023  \n",
       "4  Hydrogen gas which was being vented was sucked... -0.030023  "
      ]
     },
     "execution_count": 37,
     "metadata": {},
     "output_type": "execute_result"
    }
   ],
   "source": [
    "dff.head()"
   ]
  },
  {
   "cell_type": "code",
   "execution_count": 38,
   "id": "d1e768fc-1a2d-42f7-9b01-415a0d20e4fc",
   "metadata": {},
   "outputs": [
    {
     "data": {
      "text/html": [
       "<div>\n",
       "<style scoped>\n",
       "    .dataframe tbody tr th:only-of-type {\n",
       "        vertical-align: middle;\n",
       "    }\n",
       "\n",
       "    .dataframe tbody tr th {\n",
       "        vertical-align: top;\n",
       "    }\n",
       "\n",
       "    .dataframe thead th {\n",
       "        text-align: right;\n",
       "    }\n",
       "</style>\n",
       "<table border=\"1\" class=\"dataframe\">\n",
       "  <thead>\n",
       "    <tr style=\"text-align: right;\">\n",
       "      <th></th>\n",
       "      <th>Date</th>\n",
       "      <th>Location</th>\n",
       "      <th>Operator</th>\n",
       "      <th>Route</th>\n",
       "      <th>Type</th>\n",
       "      <th>Aboard</th>\n",
       "      <th>Fatalities</th>\n",
       "      <th>Ground</th>\n",
       "      <th>Summary</th>\n",
       "      <th>z_score</th>\n",
       "    </tr>\n",
       "  </thead>\n",
       "  <tbody>\n",
       "    <tr>\n",
       "      <th>0</th>\n",
       "      <td>1908-09-17</td>\n",
       "      <td>Fort Myer, Virginia</td>\n",
       "      <td>Military - U.S. Army</td>\n",
       "      <td>Demonstration</td>\n",
       "      <td>Wright Flyer III</td>\n",
       "      <td>2.0</td>\n",
       "      <td>1.0</td>\n",
       "      <td>0.0</td>\n",
       "      <td>During a demonstration flight, a U.S. Army fly...</td>\n",
       "      <td>-0.030023</td>\n",
       "    </tr>\n",
       "    <tr>\n",
       "      <th>1</th>\n",
       "      <td>1912-07-12</td>\n",
       "      <td>AtlantiCity, New Jersey</td>\n",
       "      <td>Military - U.S. Navy</td>\n",
       "      <td>Test flight</td>\n",
       "      <td>Dirigible</td>\n",
       "      <td>5.0</td>\n",
       "      <td>5.0</td>\n",
       "      <td>0.0</td>\n",
       "      <td>First U.S. dirigible Akron exploded just offsh...</td>\n",
       "      <td>-0.030023</td>\n",
       "    </tr>\n",
       "  </tbody>\n",
       "</table>\n",
       "</div>"
      ],
      "text/plain": [
       "        Date                 Location              Operator          Route  \\\n",
       "0 1908-09-17      Fort Myer, Virginia  Military - U.S. Army  Demonstration   \n",
       "1 1912-07-12  AtlantiCity, New Jersey  Military - U.S. Navy    Test flight   \n",
       "\n",
       "               Type  Aboard  Fatalities  Ground  \\\n",
       "0  Wright Flyer III     2.0         1.0     0.0   \n",
       "1         Dirigible     5.0         5.0     0.0   \n",
       "\n",
       "                                             Summary   z_score  \n",
       "0  During a demonstration flight, a U.S. Army fly... -0.030023  \n",
       "1  First U.S. dirigible Akron exploded just offsh... -0.030023  "
      ]
     },
     "execution_count": 38,
     "metadata": {},
     "output_type": "execute_result"
    }
   ],
   "source": [
    "dff['Date'] = pd.to_datetime(dff['Date'], errors='coerce')\n",
    "dff.head(2)"
   ]
  },
  {
   "cell_type": "code",
   "execution_count": 39,
   "id": "04e137ba-c247-4949-b1b4-392c38e8c46b",
   "metadata": {},
   "outputs": [],
   "source": [
    "dff['Aboard'] = dff['Aboard'].astype(int)\n",
    "dff['Fatalities'] = dff['Fatalities'].astype(int)\n",
    "dff['Ground'] = dff['Ground'].astype(int)"
   ]
  },
  {
   "cell_type": "code",
   "execution_count": 40,
   "id": "ac29fece-ebf8-4561-9318-dcf8edfe6a95",
   "metadata": {},
   "outputs": [
    {
     "data": {
      "text/plain": [
       "Date          datetime64[ns]\n",
       "Location              object\n",
       "Operator              object\n",
       "Route                 object\n",
       "Type                  object\n",
       "Aboard                 int32\n",
       "Fatalities             int32\n",
       "Ground                 int32\n",
       "Summary               object\n",
       "z_score              float64\n",
       "dtype: object"
      ]
     },
     "execution_count": 40,
     "metadata": {},
     "output_type": "execute_result"
    }
   ],
   "source": [
    "dff.dtypes"
   ]
  },
  {
   "cell_type": "markdown",
   "id": "7ac99179-3f68-4611-89ad-9aeac291c149",
   "metadata": {},
   "source": [
    "### 5) **Check for and handle duplicate entries:**"
   ]
  },
  {
   "cell_type": "code",
   "execution_count": 41,
   "id": "11546aee-b900-4d29-a9d8-ed3cef292a79",
   "metadata": {},
   "outputs": [
    {
     "data": {
      "text/plain": [
       "0"
      ]
     },
     "execution_count": 41,
     "metadata": {},
     "output_type": "execute_result"
    }
   ],
   "source": [
    "dff.duplicated().sum()"
   ]
  },
  {
   "cell_type": "markdown",
   "id": "3a7e2a66-fbbb-492b-a4d9-84d8133a6194",
   "metadata": {},
   "source": [
    "As we see, there is no duplicated values, so **Data Cleaning** is *done*"
   ]
  },
  {
   "cell_type": "markdown",
   "id": "db40903c-cf2e-4d16-996f-f7402bd71806",
   "metadata": {},
   "source": [
    "**In this analysis, instead of opting for traditional exploratory data analysis (EDA) techniques or extensive data visualization, I utilized the power of `ydata profiling` to gain insights into the cleaned dataset. `ydata profiling` offers a comprehensive overview of the data characteristics, including summary statistics, data types, missing values, and unique values within each column. By leveraging automated profiling techniques from `ydata`, I was able to efficiently identify potential data quality issues, understand the data distribution, and unveil patterns and anomalies. This approach not only provided valuable insights into the dataset but also streamlined the analysis process, allowing for quicker decision-making and a deeper understanding of the underlying data structure.**"
   ]
  },
  {
   "cell_type": "code",
   "execution_count": 42,
   "id": "c6210cc3-4e4c-4965-8b82-7a80238ec203",
   "metadata": {},
   "outputs": [
    {
     "data": {
      "application/vnd.jupyter.widget-view+json": {
       "model_id": "ba1300671cda4e7985fafe6bea2f0de8",
       "version_major": 2,
       "version_minor": 0
      },
      "text/plain": [
       "Summarize dataset:   0%|          | 0/5 [00:00<?, ?it/s]"
      ]
     },
     "metadata": {},
     "output_type": "display_data"
    },
    {
     "name": "stderr",
     "output_type": "stream",
     "text": [
      "C:\\Users\\oo\\AppData\\Local\\Programs\\Python\\Python311\\Lib\\site-packages\\ydata_profiling\\model\\pandas\\discretize_pandas.py:52: FutureWarning: Setting an item of incompatible dtype is deprecated and will raise in a future error of pandas. Value '[0 0 0 ... 0 0 0]' has dtype incompatible with int32, please explicitly cast to a compatible dtype first.\n",
      "  discretized_df.loc[:, column] = self._discretize_column(\n",
      "C:\\Users\\oo\\AppData\\Local\\Programs\\Python\\Python311\\Lib\\site-packages\\ydata_profiling\\model\\pandas\\discretize_pandas.py:52: FutureWarning: Setting an item of incompatible dtype is deprecated and will raise in a future error of pandas. Value '[0 0 0 ... 0 0 0]' has dtype incompatible with int32, please explicitly cast to a compatible dtype first.\n",
      "  discretized_df.loc[:, column] = self._discretize_column(\n",
      "C:\\Users\\oo\\AppData\\Local\\Programs\\Python\\Python311\\Lib\\site-packages\\ydata_profiling\\model\\pandas\\discretize_pandas.py:52: FutureWarning: Setting an item of incompatible dtype is deprecated and will raise in a future error of pandas. Value '[0 0 0 ... 0 0 0]' has dtype incompatible with int32, please explicitly cast to a compatible dtype first.\n",
      "  discretized_df.loc[:, column] = self._discretize_column(\n"
     ]
    },
    {
     "data": {
      "application/vnd.jupyter.widget-view+json": {
       "model_id": "14c6c696d8e646e1ad54c0d0cf66380f",
       "version_major": 2,
       "version_minor": 0
      },
      "text/plain": [
       "Generate report structure:   0%|          | 0/1 [00:00<?, ?it/s]"
      ]
     },
     "metadata": {},
     "output_type": "display_data"
    },
    {
     "data": {
      "application/vnd.jupyter.widget-view+json": {
       "model_id": "d74de2d1c94c49f295fcbd2043886456",
       "version_major": 2,
       "version_minor": 0
      },
      "text/plain": [
       "Render HTML:   0%|          | 0/1 [00:00<?, ?it/s]"
      ]
     },
     "metadata": {},
     "output_type": "display_data"
    },
    {
     "data": {
      "application/vnd.jupyter.widget-view+json": {
       "model_id": "3d26961bbd9c4d4c82dca5fa84e77e81",
       "version_major": 2,
       "version_minor": 0
      },
      "text/plain": [
       "Export report to file:   0%|          | 0/1 [00:00<?, ?it/s]"
      ]
     },
     "metadata": {},
     "output_type": "display_data"
    }
   ],
   "source": [
    "from ydata_profiling import ProfileReport\n",
    "from ydata_profiling.utils.cache import cache_file\n",
    "report=ProfileReport(dff,title=\"Airplane Crashes Since 1908 by Abdessamad Touzani\", explorative=True)\n",
    "report.to_file(\"data_exploration.html\")"
   ]
  },
  {
   "cell_type": "raw",
   "id": "df413ec2-4ff5-4a51-a948-18c5d3cd110f",
   "metadata": {},
   "source": [
    "# Save Data to use in Analytical app\n",
    "dff.to_csv(\"cleaned_airplane_crashes_since_1908\", index=False)"
   ]
  },
  {
   "cell_type": "markdown",
   "id": "64d3c9f4-6d52-49da-ab4c-751ba687723e",
   "metadata": {},
   "source": [
    "## **By: [Abdessamad Touzani](https://www.linkedin.com/in/abdessamadtouzani/)**"
   ]
  }
 ],
 "metadata": {
  "kernelspec": {
   "display_name": "Python 3 (ipykernel)",
   "language": "python",
   "name": "python3"
  },
  "language_info": {
   "codemirror_mode": {
    "name": "ipython",
    "version": 3
   },
   "file_extension": ".py",
   "mimetype": "text/x-python",
   "name": "python",
   "nbconvert_exporter": "python",
   "pygments_lexer": "ipython3",
   "version": "3.11.5"
  }
 },
 "nbformat": 4,
 "nbformat_minor": 5
}
